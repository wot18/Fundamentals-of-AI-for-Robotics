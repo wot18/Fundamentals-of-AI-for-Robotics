{
 "cells": [
  {
   "cell_type": "markdown",
   "metadata": {},
   "source": [
    "# 实验一 基于搜索算法的机器人路径规划"
   ]
  },
  {
   "cell_type": "markdown",
   "metadata": {},
   "source": [
    "## 姓名"
   ]
  },
  {
   "cell_type": "code",
   "execution_count": null,
   "metadata": {},
   "outputs": [],
   "source": [
    "import skimage; import matplotlib.pyplot as plt\n",
    "%matplotlib inline\n",
    "name_img=skimage.io.imread(r'姓名.jpg'); plt.imshow(name_img); _=plt.axis('off')"
   ]
  },
  {
   "cell_type": "markdown",
   "metadata": {},
   "source": [
    "## 学号"
   ]
  },
  {
   "cell_type": "code",
   "execution_count": null,
   "metadata": {},
   "outputs": [],
   "source": [
    "no_img=skimage.io.imread(r'学号.jpg');plt.imshow(no_img); _=plt.axis('off')"
   ]
  },
  {
   "cell_type": "markdown",
   "metadata": {},
   "source": [
    "## 班级"
   ]
  },
  {
   "cell_type": "code",
   "execution_count": null,
   "metadata": {},
   "outputs": [],
   "source": [
    "class_img=skimage.io.imread(r'班级.jpg');plt.imshow(class_img); _=plt.axis('off')"
   ]
  },
  {
   "cell_type": "markdown",
   "metadata": {},
   "source": [
    "## 一、实验目的"
   ]
  },
  {
   "cell_type": "markdown",
   "metadata": {},
   "source": [
    "- 掌握知识表示的基本方法（状态空间法、谓词逻辑、语义网络等），并将其应用于移动机器人路径规划问题建模。\n",
    "- 理解搜索算法（深度优先搜索、广度优先搜索、A算法、A*算法）的核心原理及在路径规划中的应用。\n",
    "- 通过编程实现搜索算法，完成移动机器人从起点到目标点的路径搜索与优化。\n",
    "- 分析不同搜索算法的优缺点，对比其在路径规划中的性能差异。"
   ]
  },
  {
   "cell_type": "markdown",
   "metadata": {},
   "source": [
    "## 二、实验原理\n",
    "\n",
    "### 1. 知识表示与路径规划建模\n",
    "\n",
    "路径规划是指在给定的环境中，找到从起点到终点的最优路径，以最小化成本或时间。结合课程中介绍的知识表示方法，路径规划中的关键要素包括：\n",
    "\n",
    "**状态空间法**：将机器人移动问题抽象为状态空间中的搜索问题（状态表示、操作符定义、目标状态判定）。\n",
    "**图表示法**：将环境建模为图（节点表示位置，边表示可移动路径），并使用图搜索算法（如广度优先搜索、深度优先搜索、A*算法）解决路径规划问题。\n",
    "\n",
    "**启发函数**：在A*算法中，定义启发函数（如曼哈顿距离、欧几里得距离）评估节点优先级，提高搜索效率。\n",
    "\n",
    "### 2. 可以采用的搜搜算法\n",
    "\n",
    "- 广度优先搜索（BFS）：\n",
    "  - 算法思想：从起点开始，逐层扩展搜索空间，直到找到目标状态。\n",
    "  - 优点：简单直观，适用于最短路径问题。\n",
    "  - 缺点：可能无法找到最优解，搜索效率低，特别是搜索空间较大。\n",
    "\n",
    "- 深度优先搜索（DFS）：\n",
    "  - 算法思想：从起点开始，沿着一条路径尽可能深入搜索，直到无法继续为止，然后回溯到上一个节点继续搜索。\n",
    "  - 优点：可以找到最优解，适用于求解迷宫问题等。\n",
    "  - 缺点：可能陷入局部最优解，搜索效率低，特别是搜索空间较大。\n",
    "  \n",
    "- A*算法：\n",
    "  - 算法思想：结合广度优先搜索和启发函数，通过评估节点优先级来优化搜索效率。\n",
    "  - 优点：能够找到最优解，适用于复杂环境中的路径规划。\n",
    "  - 缺点：需要定义启发函数，可能无法找到最优解，特别是在搜索空间较大时。\n",
    "  \n",
    "- 动态规划算法：\n",
    "  - 算法思想：将问题分解为子问题，并通过存储子问题的解来避免重复计算。\n",
    "  - 优点：可以找到最优解，适用于具有重叠子问题的路径规划问题。\n",
    "  - 缺点：需要存储子问题的解，可能占用大量内存，特别是在搜索空间较大时。\n",
    "\n",
    "### 3. 路径规划问题的建模过程\n",
    "\n",
    "路径规划问题的建模过程通常包括以下几个步骤：\n",
    "\n",
    "1. **状态表示**：机器人当前位置（x, y）、方向、已访问状态。\n",
    "   \n",
    "2. **操作符**：移动方向（上、下、左、右、对角线）及代价计算。\n",
    "   \n",
    "3. **环境建模**：二维网格地图（障碍物、自由空间）。\n"
   ]
  },
  {
   "cell_type": "markdown",
   "metadata": {},
   "source": [
    "## 三、实验内容与步骤\n",
    "\n",
    "### 1. 环境搭建\n",
    "\n",
    "本次实验中使用的环境模型是横向、纵向各有20个小格的栅格地图。在该环境模型中，机器人的路径规划问题可以概括为以下几步：\n",
    "\n",
    "(1) 从设定的起始点抵达设定的终点。\n",
    "\n",
    "(2) 机器人在移动过程中不能碰撞障碍物，否则失败。\n",
    "\n",
    "(3) 在满足以上条件的情况下，要使得机器人的行动路线尽可能地符合规划路径短的评价指标条件。\n",
    "\n",
    "将机器人作为一个极小的质点，并按照实际的尺寸比例来模拟障碍物大小，将其投影到栅格子中。把障碍物映射到的环境格子设置成黑色格子，绿色格子为安全区域。这里将障碍物映射到的格子，无论其在格子中的占比有多少，都统一将其整个格子涂黑，作为障碍物的映射区域。机器人通过在安全区域(即：绿色格子)上点到点的移动，连接成规划路径。"
   ]
  },
  {
   "cell_type": "code",
   "execution_count": null,
   "metadata": {},
   "outputs": [],
   "source": [
    "#如果你的环境中没有pygame，那么需要用底下的指令安装pygame\n",
    "#!pip install pygame"
   ]
  },
  {
   "cell_type": "code",
   "execution_count": null,
   "metadata": {},
   "outputs": [],
   "source": [
    "# 定义全局变量\n",
    "import globalVar\n",
    "globalVar._init()\n",
    "globalVar.set_value('CELL_WIDTH', 16) #单元格宽度\n",
    "globalVar.set_value('CELL_HEIGHT',16) #单元格长度\n",
    "globalVar.set_value('BORDER_WIDTH', 1) #边框宽度\n",
    "globalVar.set_value('BLOCK_NUM', 70) #地图中的障碍物数量\n",
    "globalVar.set_value('TEST_NUM', 15) #实验测试次数"
   ]
  },
  {
   "cell_type": "code",
   "execution_count": null,
   "metadata": {},
   "outputs": [],
   "source": [
    "import matplotlib.pyplot as plt\n",
    "import skimage\n",
    "from aboutMap import Color, Map, generate_random_obstacles\n",
    "from aboutResults import showResults, saveResultImg"
   ]
  },
  {
   "cell_type": "code",
   "execution_count": null,
   "metadata": {},
   "outputs": [],
   "source": [
    "# 构建地图\n",
    "# 使用tuple和map函数创建一个20×20的栅格地图\n",
    "# map函数将(20,20)中的每个元素转换为整数，然后用tuple将结果转换为元组\n",
    "mapsize = tuple(map(int, (20,20)))  #产生一个20×20的栅格地图\n",
    "\n",
    "# 设置起点坐标(0,0)，即地图左上角\n",
    "# 同样使用tuple和map函数将坐标转换为整数元组\n",
    "pos_snode = tuple(map(int, (0,0)))  #设置机器人运动的起点为地图中左上角\n",
    "\n",
    "# 设置终点坐标(19,19)，即地图右下角\n",
    "pos_enode = tuple(map(int, (19,19))) #设置机器人运动的终点为地图的右下角\n",
    "\n",
    "# 定义障碍物列表，每个元素为障碍物的坐标点\n",
    "# 在地图中会用黑色方块表示这些障碍物\n",
    "blocklist=[(5,2), (7,11), (13, 17)]\n",
    "\n",
    "# 定义机器人可以经过的路径点列表\n",
    "# 这些点将在地图上用红色线连接，表示机器人的运动轨迹\n",
    "# 当前路径是一条从(1,1)到(19,19)的对角线\n",
    "routelist=[(1,1), (2,2), (3,3), (4,4),(5,5),(6,6), (7,7), (8,8), (9,9), (10,10),\n",
    "           (11,11),(12,12), (13,13),(14,14),(15,15),(16,16),(17,17),(18,18),(19,19)]\n",
    "\n",
    "# 调用saveResultImg函数将地图保存为图片\n",
    "# 函数参数包括：地图大小、起点、终点、障碍物列表和路径列表\n",
    "saveResultImg(mapsize, pos_snode, pos_enode, blocklist, routelist)\n",
    "\n",
    "# 创建一个5x5英寸的图形窗口\n",
    "plt.figure(figsize=(5,5))\n",
    "\n",
    "# 使用skimage库读取生成的地图图片\n",
    "img1= skimage.io.imread('result0.png')\n",
    "\n",
    "# 显示图片\n",
    "plt.imshow(img1)\n",
    "\n",
    "# 关闭坐标轴显示\n",
    "plt.axis('off')\n",
    "\n",
    "# 展示图片\n",
    "plt.show()"
   ]
  },
  {
   "cell_type": "markdown",
   "metadata": {},
   "source": [
    "### 2. 基于深度优先搜索的路径规划\n",
    "\n",
    "首先对搜索算法中的节点进行定义："
   ]
  },
  {
   "cell_type": "code",
   "execution_count": null,
   "metadata": {},
   "outputs": [],
   "source": [
    "class Node:\n",
    "    \"\"\"\n",
    "    节点类：用于搜索算法中表示路径规划的节点\n",
    "    属性:\n",
    "        position: 节点在地图中的位置坐标\n",
    "        g_cost: 从起点到当前节点的实际代价\n",
    "        h_cost: 从当前节点到目标点的估计代价（启发式值）\n",
    "        parent: 父节点，用于回溯最终路径\n",
    "    \"\"\"\n",
    "    def __init__(self, position, g_cost=float('inf'), h_cost=0):\n",
    "        \"\"\"\n",
    "        初始化节点\n",
    "        参数:\n",
    "            position: 节点位置坐标\n",
    "            g_cost: 从起点到该节点的代价，默认为无穷大\n",
    "            h_cost: 预估的到终点的代价，默认为0\n",
    "        \"\"\"\n",
    "        self.position = position    # 存储节点的位置坐标\n",
    "        self.g_cost = g_cost       # 从起点到当前节点的实际代价\n",
    "        self.h_cost = h_cost       # 从当前节点到目标的估计代价\n",
    "        self.parent = None         # 父节点，初始化为None\n",
    "        \n",
    "    def f_cost(self):\n",
    "        \"\"\"\n",
    "        计算节点的f值\n",
    "        返回:\n",
    "            f值 = g值（实际代价）+ h值（估计代价）\n",
    "        \"\"\"\n",
    "        return self.g_cost + self.h_cost\n",
    "    \n",
    "    def __lt__(self, other):\n",
    "        \"\"\"\n",
    "        重载小于运算符，用于优先队列的比较\n",
    "        参数:\n",
    "            other: 另一个Node对象\n",
    "        返回:\n",
    "            当前节点的f值是否小于另一个节点的f值\n",
    "        \"\"\"\n",
    "        return self.f_cost() < other.f_cost()"
   ]
  },
  {
   "cell_type": "markdown",
   "metadata": {},
   "source": [
    "定义搜索算法，以深度优先搜索为例。"
   ]
  },
  {
   "cell_type": "code",
   "execution_count": null,
   "metadata": {},
   "outputs": [],
   "source": [
    "def dfs(start, goal, obstacles, mapsize=(20, 20)):\n",
    "    \"\"\"\n",
    "    深度优先搜索算法实现\n",
    "    \n",
    "    参数:\n",
    "        start: 起始位置坐标 (x, y)\n",
    "        goal: 目标位置坐标 (x, y)\n",
    "        mapsize: 地图大小 (width, height)\n",
    "        obstacles: 障碍物位置列表\n",
    "        \n",
    "    返回:\n",
    "        path: 找到的路径列表，如果没找到则返回None\n",
    "    \"\"\"\n",
    "    # 定义移动方向：上、右、下、左\n",
    "    directions = [(0, -1), (1, 0), (0, 1), (-1, 0)]\n",
    "    \n",
    "    # 初始化访问过的节点集合\n",
    "    visited = set()\n",
    "    \n",
    "    def is_valid(pos):\n",
    "        \"\"\"检查位置是否有效\"\"\"\n",
    "        x, y = pos\n",
    "        return (0 <= x < mapsize[0] and \n",
    "                0 <= y < mapsize[1] and \n",
    "                pos not in obstacles and \n",
    "                pos not in visited)\n",
    "    \n",
    "    def dfs_recursive(current):\n",
    "        \"\"\"递归实现DFS\"\"\"\n",
    "        # 如果到达目标，返回路径\n",
    "        if current == goal:\n",
    "            return [current]\n",
    "            \n",
    "        # 标记当前节点为已访问\n",
    "        visited.add(current)\n",
    "        \n",
    "        # 遍历所有可能的移动方向\n",
    "        for dx, dy in directions:\n",
    "            next_pos = (current[0] + dx, current[1] + dy)\n",
    "            \n",
    "            # 如果下一个位置有效且未访问过\n",
    "            if is_valid(next_pos):\n",
    "                # 递归搜索\n",
    "                path = dfs_recursive(next_pos)\n",
    "                # 如果找到路径，将当前节点加入路径\n",
    "                if path:\n",
    "                    return [current] + path\n",
    "        \n",
    "        return None\n",
    "    \n",
    "    # 从起点开始搜索\n",
    "    path = dfs_recursive(start)\n",
    "    return path"
   ]
  },
  {
   "cell_type": "markdown",
   "metadata": {},
   "source": [
    "在实验中，随机产生70个障碍物小格，使用深度优先搜索寻找机器人移动的有效路径。"
   ]
  },
  {
   "cell_type": "code",
   "execution_count": null,
   "metadata": {},
   "outputs": [],
   "source": [
    "# 生成70个随机障碍物\n",
    "obstacles = generate_random_obstacles(mapsize, 70, pos_snode, pos_enode)\n",
    "\n",
    "# 使用之前定义的DFS算法寻找路径\n",
    "path = dfs(pos_snode, pos_enode, obstacles)\n",
    "\n",
    "if path:\n",
    "    print(\"Path found!\")\n",
    "    # 将路径转换为routelist格式\n",
    "    routelist_dfs = path\n",
    "else:\n",
    "    print(\"No valid path found!\")\n",
    "    routelist_dfs = []\n",
    "\n",
    "# 保存并显示结果\n",
    "saveResultImg(mapsize, pos_snode, pos_enode, obstacles, routelist_dfs)\n",
    "\n",
    "# 显示结果图\n",
    "plt.figure(figsize=(8, 8))\n",
    "img = skimage.io.imread('result0.png')\n",
    "plt.imshow(img)\n",
    "plt.axis('off')\n",
    "plt.title('DFS Path Planning Result')\n",
    "plt.show()"
   ]
  },
  {
   "cell_type": "markdown",
   "metadata": {},
   "source": [
    "### 3. 基于A*搜索的路径规划"
   ]
  },
  {
   "cell_type": "markdown",
   "metadata": {},
   "source": [
    "定义启发式函数。"
   ]
  },
  {
   "cell_type": "code",
   "execution_count": null,
   "metadata": {},
   "outputs": [],
   "source": [
    "def heuristic(start, goal):\n",
    "    \"\"\"\n",
    "    计算从起点到终点的启发式值（预估代价）\n",
    "    使用曼哈顿距离（Manhattan distance）作为启发式函数\n",
    "    \n",
    "    参数:\n",
    "        start: 起始节点的坐标，格式为(x, y)\n",
    "        goal: 目标节点的坐标，格式为(x, y)\n",
    "        \n",
    "    返回:\n",
    "        float: 从start到goal的预估代价\n",
    "    \"\"\"\n",
    "    # 计算x方向上的距离差\n",
    "    dx = ？？？？？？？？？\n",
    "    # 计算y方向上的距离差\n",
    "    dy = ？？？？？？？？？\n",
    "    # 返回曼哈顿距离\n",
    "    return ？？？？？？？？"
   ]
  },
  {
   "cell_type": "markdown",
   "metadata": {},
   "source": [
    "定义A*搜索算法"
   ]
  },
  {
   "cell_type": "code",
   "execution_count": null,
   "metadata": {},
   "outputs": [],
   "source": [
    "def astar(start, goal, obstacles, mapsize=(20, 20)):\n",
    "    \"\"\"\n",
    "    A*搜索算法实现\n",
    "    \n",
    "    参数:\n",
    "        start: 起始位置坐标 (x, y)\n",
    "        goal: 目标位置坐标 (x, y)\n",
    "        obstacles: 障碍物位置列表\n",
    "        mapsize: 地图大小 (width, height)\n",
    "        \n",
    "    返回:\n",
    "        path: 找到的路径列表，如果没找到则返回None\n",
    "    \"\"\"\n",
    "    # 定义移动方向：上、右、下、左\n",
    "    directions = [(0, -1), (1, 0), (0, 1), (-1, 0)]\n",
    "    \n",
    "    # 创建开放列表和关闭列表\n",
    "    open_list = []\n",
    "    closed_set = set()\n",
    "    \n",
    "    # 创建起始节点\n",
    "    start_node = Node(start, 0, heuristic(start, goal))\n",
    "    open_list.append(start_node)\n",
    "    \n",
    "    # 用字典存储每个位置对应的节点\n",
    "    node_dict = {start: start_node}\n",
    "    \n",
    "    def is_valid(pos):\n",
    "        \"\"\"检查位置是否有效\"\"\"\n",
    "        x, y = pos\n",
    "        return (0 <= x < mapsize[0] and \n",
    "                0 <= y < mapsize[1] and \n",
    "                pos not in obstacles)\n",
    "    \n",
    "    while open_list:\n",
    "        # 获取f值最小的节点\n",
    "        current_node = min(open_list)\n",
    "        current_pos = current_node.position\n",
    "        \n",
    "        # 如果到达目标，构建并返回路径\n",
    "        if current_pos == goal:\n",
    "            path = []\n",
    "            while current_node:\n",
    "                path.append(current_node.position)\n",
    "                current_node = current_node.parent\n",
    "            return path[::-1]  # 反转路径，从起点到终点\n",
    "        \n",
    "        # 将当前节点从开放列表移到关闭列表\n",
    "        open_list.remove(current_node)\n",
    "        closed_set.add(current_pos)\n",
    "        \n",
    "        # 检查所有相邻节点\n",
    "        for dx, dy in directions:\n",
    "            next_pos = ？？？？？？？？？？？？？\n",
    "            \n",
    "            # 检查位置是否有效且未被访问\n",
    "            if not is_valid(next_pos) or next_pos in closed_set:\n",
    "                continue\n",
    "            \n",
    "            # 计算从起点经过当前节点到相邻节点的代价\n",
    "            g_cost = ？？？？？？？？？？？？？？？\n",
    "            \n",
    "            # 如果是新节点或找到更好的路径\n",
    "            if next_pos not in node_dict or g_cost < node_dict[next_pos].g_cost:\n",
    "                # 创建新节点或更新现有节点\n",
    "                h_cost = ？？？？？？？？？？？？？？？\n",
    "                neighbor = Node(next_pos, g_cost, h_cost)\n",
    "                neighbor.parent = current_node\n",
    "                node_dict[next_pos] = neighbor\n",
    "                \n",
    "                # 如果节点不在开放列表中，添加它\n",
    "                if neighbor not in open_list:\n",
    "                    ？？？？？？？？？？？？？？？？？？？\n",
    "    \n",
    "    # 如果没有找到路径，返回None\n",
    "    return None"
   ]
  },
  {
   "cell_type": "markdown",
   "metadata": {},
   "source": [
    "在实验中，利用之前生成的地图，将A*搜索与深度优先搜索算法进行比较。  "
   ]
  },
  {
   "cell_type": "code",
   "execution_count": null,
   "metadata": {},
   "outputs": [],
   "source": [
    "# 使用A*算法寻找路径\n",
    "path = astar(pos_snode, pos_enode,obstacles)\n",
    "\n",
    "if path:\n",
    "    print(\"Path found!\")\n",
    "    # 将路径转换为routelist格式\n",
    "    routelist_Astar = path\n",
    "else:\n",
    "    print(\"No valid path found!\")\n",
    "    routelist_Astar = []\n",
    "\n",
    "# 保存并显示结果\n",
    "saveResultImg(mapsize, pos_snode, pos_enode, obstacles, routelist_Astar)\n",
    "\n",
    "# 显示结果图\n",
    "plt.figure(figsize=(8, 8))\n",
    "img = skimage.io.imread('result0.png')\n",
    "plt.imshow(img)\n",
    "plt.axis('off')\n",
    "plt.title('A* Path Planning Result')\n",
    "plt.show()"
   ]
  },
  {
   "cell_type": "markdown",
   "metadata": {},
   "source": [
    "## 四、 重复进行对比实验"
   ]
  },
  {
   "cell_type": "markdown",
   "metadata": {},
   "source": [
    "重复进行5次对比实验，每次实验中，随机布置70各障碍物的位置，机器人的初始位置和目标位置不变。分别用深度优先搜索与A*算法求解路径，并将实验结果进行对比分析。"
   ]
  },
  {
   "cell_type": "code",
   "execution_count": null,
   "metadata": {},
   "outputs": [],
   "source": [
    "# 进行5次重复实验\n",
    "for experiment_num in range(5):\n",
    "    print(f\"\\nExperiment {experiment_num + 1}\")\n",
    "    \n",
    "    # 随机生成70个障碍物\n",
    "    obstacles = generate_random_obstacles(mapsize, 70, pos_snode, pos_enode)\n",
    "    \n",
    "    # 创建子图布局\n",
    "    plt.figure(figsize=(16, 8))\n",
    "    \n",
    "    # DFS算法路径规划\n",
    "    path_dfs = dfs(pos_snode, pos_enode, obstacles)\n",
    "    if path_dfs:\n",
    "        print(\"DFS: Path found!\")\n",
    "        routelist_dfs = path_dfs\n",
    "        print(f\"DFS path length: {len(path_dfs)}\")\n",
    "    else:\n",
    "        print(\"DFS: No valid path found!\")\n",
    "        routelist_dfs = []\n",
    "    \n",
    "    # 保存并显示DFS结果\n",
    "    plt.subplot(1, 2, 1)\n",
    "    saveResultImg(mapsize, pos_snode, pos_enode, obstacles, routelist_dfs)\n",
    "    img_dfs = skimage.io.imread('result0.png')\n",
    "    plt.imshow(img_dfs)\n",
    "    plt.axis('off')\n",
    "    plt.title(f'DFS Path Planning (Experiment {experiment_num + 1})')\n",
    "    \n",
    "    # A*算法路径规划\n",
    "    path_astar = astar(pos_snode, pos_enode, obstacles)\n",
    "    if path_astar:\n",
    "        print(\"A*: Path found!\")\n",
    "        routelist_astar = path_astar\n",
    "        print(f\"A* path length: {len(path_astar)}\")\n",
    "    else:\n",
    "        print(\"A*: No valid path found!\")\n",
    "        routelist_astar = []\n",
    "    \n",
    "    # 保存并显示A*结果\n",
    "    plt.subplot(1, 2, 2)\n",
    "    saveResultImg(mapsize, pos_snode, pos_enode, obstacles, routelist_astar)\n",
    "    img_astar = skimage.io.imread('result0.png')\n",
    "    plt.imshow(img_astar)\n",
    "    plt.axis('off')\n",
    "    plt.title(f'A* Path Planning (Experiment {experiment_num + 1})')\n",
    "    \n",
    "    plt.tight_layout()\n",
    "    plt.show()"
   ]
  },
  {
   "cell_type": "markdown",
   "metadata": {},
   "source": [
    "## 五、实验结果分析"
   ]
  },
  {
   "cell_type": "markdown",
   "metadata": {},
   "source": [
    "双击此处添加你对本次实验结果的分析和思考。"
   ]
  },
  {
   "cell_type": "markdown",
   "metadata": {},
   "source": [
    "## 六、扩展实验(选做)"
   ]
  },
  {
   "cell_type": "markdown",
   "metadata": {},
   "source": []
  },
  {
   "cell_type": "markdown",
   "metadata": {},
   "source": [
    "扩展实验使用Coppeliasim进行移动机器人仿真。由于涉及到物理仿真，扩展实验不能在云端环境中运行，需要在本地电脑上安装CoppeliaSim软件，并运行实验脚本。实验中，使用了先锋Pioneer 3DX机器人作为实验对象，并随机放置了5个立方体障碍物，机器人的初始位置(-1.5, 1.5)，希望运动到的目标位置为(1.5, -1.5)，实验场景通过运行如下指令可以看到：\n"
   ]
  },
  {
   "cell_type": "code",
   "execution_count": null,
   "metadata": {},
   "outputs": [],
   "source": [
    "import os\n",
    "_=os.system(\"start experiment1.ttt\")"
   ]
  },
  {
   "cell_type": "markdown",
   "metadata": {},
   "source": [
    "这里仍然采用A*算法进行机器人路径规划，因此需要设定启发函数，代码如下："
   ]
  },
  {
   "cell_type": "code",
   "execution_count": null,
   "metadata": {},
   "outputs": [],
   "source": [
    "import math\n",
    "def heuristic(start, goal):\n",
    "    \"\"\"\n",
    "    计算两点之间的欧几里得距离作为启发式值\n",
    "    \n",
    "    参数:\n",
    "        start: 起始点坐标，格式为(x, y)\n",
    "        goal: 目标点坐标，格式为(x, y)\n",
    "        \n",
    "    返回:\n",
    "        float: 两点之间的欧几里得距离\n",
    "    \"\"\"\n",
    "    # 使用欧几里得距离公式计算两点间距离\n",
    "    # sqrt((x2-x1)^2 + (y2-y1)^2)\n",
    "    val = ？？？？？？？？？？？？？？？？？？？\n",
    "    return val"
   ]
  },
  {
   "cell_type": "markdown",
   "metadata": {},
   "source": [
    "结合机器人仿真环境，将A*算法实现为："
   ]
  },
  {
   "cell_type": "code",
   "execution_count": null,
   "metadata": {},
   "outputs": [],
   "source": [
    "from heapq import heappush, heappop  # 导入堆操作函数，用于维护优先队列\n",
    "from pioneer_path_planning import get_neighbors  # 导入获取邻居节点的函数\n",
    "\n",
    "def a_star(start_pos, goal_pos, obstacles, grid_size=0.5):\n",
    "    \"\"\"\n",
    "    A*路径规划算法实现\n",
    "    \n",
    "    参数:\n",
    "        start_pos: 起始位置坐标 (x, y)\n",
    "        goal_pos: 目标位置坐标 (x, y)\n",
    "        obstacles: 障碍物位置列表\n",
    "        grid_size: 网格大小，默认为0.5\n",
    "        \n",
    "    返回:\n",
    "        path: 找到的路径列表，如果没找到则返回None\n",
    "    \"\"\"\n",
    "    # 创建起始节点并计算其启发式值\n",
    "    start_node = Node(start_pos, 0)\n",
    "    start_node.h_cost = heuristic(start_pos, goal_pos)\n",
    "    \n",
    "    # 初始化开放列表（待探索的节点）和关闭集合（已探索的节点）\n",
    "    open_list = []\n",
    "    closed_set = set()\n",
    "    heappush(open_list, start_node)  # 将起始节点加入开放列表\n",
    "    nodes = {start_pos: start_node}  # 用字典存储所有已创建的节点\n",
    "    \n",
    "    while open_list:\n",
    "        # 获取f值最小的节点\n",
    "        current = heappop(open_list)\n",
    "        \n",
    "        # 检查是否到达目标点附近（考虑网格大小的误差）\n",
    "        if heuristic(current.position, goal_pos) < grid_size:\n",
    "            # 构建从终点到起点的路径\n",
    "            path = []\n",
    "            while current:\n",
    "                path.append(current.position)\n",
    "                current = current.parent\n",
    "            return path[::-1]  # 反转路径，返回从起点到终点的路径\n",
    "            \n",
    "        # 将当前节点加入关闭集合\n",
    "        ？？？？？？？？？？？？？？？？？？\n",
    "        \n",
    "        # 获取并遍历当前节点的所有邻居节点\n",
    "        for neighbor_pos in get_neighbors(current.position, goal_pos, grid_size, heuristic_func=heuristic):\n",
    "            # 检查邻居节点是否与障碍物碰撞\n",
    "            if any(heuristic(neighbor_pos, obs) < grid_size for obs in obstacles):\n",
    "                continue\n",
    "                \n",
    "            # 计算从起点经过当前节点到达邻居节点的代价\n",
    "            g_cost = ？？？？？？？？？？？？？？？？？？？\n",
    "            \n",
    "            # 如果是新节点，创建并存储\n",
    "            if neighbor_pos not in nodes:\n",
    "                neighbor = Node(neighbor_pos)\n",
    "                nodes[neighbor_pos] = neighbor\n",
    "            else:\n",
    "                neighbor = nodes[neighbor_pos]\n",
    "                \n",
    "            # 如果邻居节点已经在关闭集合中，跳过\n",
    "            if neighbor.position in closed_set:\n",
    "                continue\n",
    "                \n",
    "            # 如果找到更好的路径，更新节点信息\n",
    "            if g_cost < neighbor.g_cost:\n",
    "                neighbor.g_cost = ？？？？？？？？？？？？  # 更新g值\n",
    "                neighbor.h_cost = ？？？？？？？？？？？？？  # 更新h值\n",
    "                neighbor.parent = current  # 更新父节点\n",
    "                heappush(open_list, neighbor)  # 将节点加入开放列表\n",
    "    \n",
    "    # 如果没有找到路径，返回None\n",
    "    return None"
   ]
  },
  {
   "cell_type": "markdown",
   "metadata": {},
   "source": [
    "这时就可以开始进行机器人运动仿真了，运行下面代码前需要首先在CoppeliaSim中点击仿真开始按钮，然后再运行最后一段代码。如果没有找到合适的路径，可以多次运行最后一段代码，直到找到合适的路径。一旦最后一段代码运行起来了以后，可以转到CoppeliaSim中，观察机器人的运动过程。\n",
    "\n",
    "![点击启动仿真按钮](开始仿真按钮.png)"
   ]
  },
  {
   "cell_type": "code",
   "execution_count": null,
   "metadata": {},
   "outputs": [],
   "source": [
    "from pioneer_path_planning import runSimulation\n",
    "runSimulation(search_func=a_star)"
   ]
  },
  {
   "cell_type": "markdown",
   "metadata": {},
   "source": []
  }
 ],
 "metadata": {
  "kernelspec": {
   "display_name": "torch_env2",
   "language": "python",
   "name": "python3"
  },
  "language_info": {
   "codemirror_mode": {
    "name": "ipython",
    "version": 3
   },
   "file_extension": ".py",
   "mimetype": "text/x-python",
   "name": "python",
   "nbconvert_exporter": "python",
   "pygments_lexer": "ipython3",
   "version": "3.9.21"
  },
  "orig_nbformat": 4
 },
 "nbformat": 4,
 "nbformat_minor": 2
}
